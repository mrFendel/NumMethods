{
 "cells": [
  {
   "cell_type": "code",
   "execution_count": 1,
   "metadata": {
    "collapsed": true
   },
   "outputs": [],
   "source": [
    "import numpy as np"
   ]
  },
  {
   "cell_type": "markdown",
   "source": [
    "## Task 5\n",
    "\n",
    "$$\n",
    "\\begin{gathered}\n",
    "A=\\left[\\begin{array}{cc}\n",
    "1 & 1 \\\\\n",
    "1 & 1+t \\\\\n",
    "1 & 1+t\n",
    "\\end{array}\\right], \\quad b=\\left[\\begin{array}{c}\n",
    "2 \\\\\n",
    "t \\\\\n",
    "4+t\n",
    "\\end{array}\\right] , \\quad t = 10^{-5} \\\\\n",
    "\\end{gathered}\n",
    "$$\n",
    "\n",
    "$$\n",
    "x=\\left(A^T A\\right)^{-1} A^T b .\n",
    "$$\n",
    "\n",
    "$$\n",
    "\\begin{gathered}\n",
    "M = A^T A = \\left[\\begin{array}{cc}\n",
    "3 & 3+2t \\\\\n",
    "3+2t & 3+4t+2t^2\n",
    "\\end{array}\\right],\n",
    "\n",
    "\\quad M^{-1} = \\frac{1}{det M} \\left[\\begin{array}{cc}\n",
    "3+4t+2t^2 & -(3+2t) \\\\\n",
    "-(3+2t) & 3\n",
    "\\end{array}\\right],\n",
    "\n",
    "\\quad A^T b = \\left[\\begin{array}{cc}\n",
    "6+2t \\\\\n",
    "6+6t+2t^2\n",
    "\\end{array}\\right]\n",
    "\\end{gathered}\n",
    "$$\n",
    "\n",
    "$$\n",
    "x = \\frac{1}{2t^2}\\left[\\begin{array}{cc}\n",
    "2t^2 \\\\\n",
    "2t^2\n",
    "\\end{array}\\right] = \\left[\\begin{array}{cc}\n",
    "1 \\\\\n",
    "1\n",
    "\\end{array}\\right]\n",
    "\n",
    "$$\n"
   ],
   "metadata": {
    "collapsed": false,
    "pycharm": {
     "name": "#%% md\n"
    }
   }
  },
  {
   "cell_type": "code",
   "execution_count": 2,
   "outputs": [
    {
     "name": "stdout",
     "output_type": "stream",
     "text": [
      "Single precision difference [-1. -1.]\n",
      "Double precision difference [ 0.00065094 -0.0006806 ]\n"
     ]
    }
   ],
   "source": [
    "# analytical solution\n",
    "x = np.array([1,1])\n",
    "\n",
    "def solution(A, b):\n",
    "    A_t = A.T\n",
    "    inv = np.linalg.inv(A_t.dot(A))\n",
    "    return inv.dot(A_t.dot(b))\n",
    "\n",
    "A = np.array([[1, 1],[1, 1+10**-5],[1, 1+10**-5]], dtype=np.float32)\n",
    "b = np.array([2, 10**-5, 4 + 10**-5], dtype=np.float32)\n",
    "\n",
    "# single precision\n",
    "print('Single precision difference', solution(A,b) - x)\n",
    "\n",
    "A = np.array(A, dtype=np.float64)\n",
    "b = np.array(b, dtype=np.float64)\n",
    "print('Double precision difference', solution(A,b) - x)"
   ],
   "metadata": {
    "collapsed": false,
    "pycharm": {
     "name": "#%%\n"
    }
   }
  },
  {
   "cell_type": "code",
   "execution_count": 3,
   "outputs": [
    {
     "name": "stdout",
     "output_type": "stream",
     "text": [
      "SVD Solution [1.00067811 0.99932189]\n",
      "Difference with analytical solution [ 0.00067811 -0.00067811]\n"
     ]
    }
   ],
   "source": [
    "def svd_solution(A, b):\n",
    "    # SVD decomposition\n",
    "    u, s, vh = np.linalg.svd(A, full_matrices=False)\n",
    "    # x_ = vh @ x (new basis)\n",
    "    # b_ = u.T @ b\n",
    "    b_ = u.T @ b\n",
    "    x_ = np.linalg.solve(np.diag(s), b_)\n",
    "    return vh.T @ x_\n",
    "\n",
    "print('SVD Solution', svd_solution(A, b))\n",
    "print('Difference with analytical solution', svd_solution(A, b)-x)"
   ],
   "metadata": {
    "collapsed": false,
    "pycharm": {
     "name": "#%%\n"
    }
   }
  },
  {
   "cell_type": "markdown",
   "source": [
    "##### A-matrix has determinant close to zero and therefore big condition number, that is why SVD-based algorythm is more numerically stable.\n",
    "\n",
    "##### To demonstrate it, lets try it with single precision (where regular approach was unstable)\n",
    "\n"
   ],
   "metadata": {
    "collapsed": false,
    "pycharm": {
     "name": "#%% md\n"
    }
   }
  },
  {
   "cell_type": "code",
   "source": [
    "A = np.array(A, dtype=np.float32)\n",
    "b = np.array(b, dtype=np.float32)\n",
    "\n",
    "print('SVD Solution', svd_solution(A, b))\n",
    "print('Difference with analytical solution', svd_solution(A, b)-x)"
   ],
   "metadata": {
    "collapsed": false,
    "pycharm": {
     "name": "#%%\n"
    }
   },
   "execution_count": 4,
   "outputs": [
    {
     "name": "stdout",
     "output_type": "stream",
     "text": [
      "SVD Solution [0.9999966 1.0000032]\n",
      "Difference with analytical solution [-3.39746475e-06  3.21865082e-06]\n"
     ]
    }
   ]
  },
  {
   "cell_type": "code",
   "execution_count": 5,
   "outputs": [
    {
     "name": "stdout",
     "output_type": "stream",
     "text": [
      "np.linalg.lstsq Solution [1.0006781 0.9993219]\n",
      "Difference with analytical solution [ 0.00067806 -0.00067812]\n"
     ]
    }
   ],
   "source": [
    "x_lstsq, residuals, rank, s = np.linalg.lstsq(A, b, rcond=None)\n",
    "print('np.linalg.lstsq Solution' ,x_lstsq)\n",
    "print('Difference with analytical solution', x_lstsq-x)"
   ],
   "metadata": {
    "collapsed": false,
    "pycharm": {
     "name": "#%%\n"
    }
   }
  },
  {
   "cell_type": "markdown",
   "source": [
    "##### np.linalg.lstsq is exactly the same as scipy.lstsq, which uses SVD from LAPACK, as it could be seen in the source code:\n",
    "\n",
    "https://github.com/scipy/scipy/blob/v1.9.3/scipy/linalg/_basic.py#L1024-L1223\n",
    "\n",
    "##### Moreover, our SVD-based solution returns exactly the same result as SVD-based algorythm with double-precision.\n"
   ],
   "metadata": {
    "collapsed": false,
    "pycharm": {
     "name": "#%% md\n"
    }
   }
  },
  {
   "cell_type": "markdown",
   "source": [
    "##### Four condition numbers from the Theorem 18.1 are describing the sensitivities of $y$ and $x$ to perturbations in $b-vector$ and $A-matrix$.\n",
    "\n",
    "$$\n",
    "1. \\frac{1}{\\cos \\theta},\n",
    "\\quad\n",
    "2. \\frac{\\kappa(A)}{\\eta \\cos \\theta},\n",
    "\\quad\n",
    "3. \\frac{\\kappa(A)}{\\cos \\theta},\n",
    "\\quad\n",
    "4.\\ \\kappa(A)+\\frac{\\kappa(A)^2 \\tan \\theta}{\\eta}\n",
    "$$\n",
    "\n",
    "$$\n",
    "where \\quad\n",
    "\\kappa(A)= \\Vert A \\Vert \\Vert A^T \\Vert\n",
    ", \\quad\n",
    "\\theta=\\cos ^{-1} \\frac{\\|y\\|}{\\|b\\|}\n",
    ", \\quad\n",
    "\\eta=\\frac{\\|A\\|\\|x\\|}{\\|y\\|}=\\frac{\\|A\\|\\|x\\|}{\\|A x\\|} .\n",
    "$$"
   ],
   "metadata": {
    "collapsed": false,
    "pycharm": {
     "name": "#%% md\n"
    }
   }
  },
  {
   "cell_type": "code",
   "execution_count": 6,
   "outputs": [
    {
     "name": "stdout",
     "output_type": "stream",
     "text": [
      "450126.14121396595\n"
     ]
    }
   ],
   "source": [
    "delta_b = np.array([-10**-5, -0, -0])\n",
    "x_= svd_solution(A, b+delta_b)\n",
    "N = lambda v : np.linalg.norm(v)\n",
    "print(N(x_- x) * N(b) / N(x) / N(delta_b))"
   ],
   "metadata": {
    "collapsed": false,
    "pycharm": {
     "name": "#%%\n"
    }
   }
  },
  {
   "cell_type": "markdown",
   "source": [
    "## Task 6\n",
    "\n",
    "$$\n",
    "A=\\left[\\begin{array}{cc}\n",
    "\\epsilon & 1 & 0\\\\\n",
    "1 & 1 & 1\\\\\n",
    "0 & 1 & 1\n",
    "\\end{array}\\right]\n",
    "$$\n",
    "##### Firstly, let us perform LU decomposition without pivoting by solving system of linear equations, considering that diagonal of L-matrix is $(1, 1, 1)$\n",
    "$$\n",
    "A=\\left[\\begin{array}{cc}\n",
    "1 & 0 & 0\\\\\n",
    "l_{21} & 1 & 0\\\\\n",
    "l_{31} & l_{32} & 1\n",
    "\\end{array}\\right]\n",
    "\n",
    "\\left[\\begin{array}{cc}\n",
    "u_{11} & u_{12} & u_{13}\\\\\n",
    "0 & u_{22} & u_{23}\\\\\n",
    "0 & 0 & u_{33}\n",
    "\\end{array}\\right]\n",
    "$$\n",
    "\n",
    "$$\n",
    "\\begin{gathered}\n",
    "1st\\ row:\\ 1 * u_{11} = \\epsilon, \\quad 1 * u_{12} = 1, \\quad 1 * u_{13}\n",
    "\\end{gathered}\n",
    "$$\n",
    "$$\n",
    "\\begin{gathered}\n",
    "2nd\\ row:\\ l_{21} * \\epsilon = 1, \\quad l_{21} * u_{12} = 1, \\quad l_{22} * u_{23} = 1\n",
    "\\end{gathered}\n",
    "$$\n",
    "$$\n",
    "\\begin{gathered}\n",
    "3rd\\ row:\\ l_{31} * \\epsilon = 0, \\quad l_{32} * u_{22} = 1, \\quad l_{32} * 1 + u_{33} = 1\n",
    "\\end{gathered}\n",
    "$$\n",
    "\n",
    "$$\n",
    "Therefore \\quad LU=\\left[\\begin{array}{cc}\n",
    "1 & 0 & 0\\\\\n",
    "\\frac{1}{\\epsilon} & 1 & 0\\\\\n",
    "0 & \\frac{\\epsilon}{\\epsilon - 1} & 1\n",
    "\\end{array}\\right]\n",
    "\n",
    "\\left[\\begin{array}{cc}\n",
    "\\epsilon & 1 & 0\\\\\n",
    "0 & 1 - \\frac{1}{\\epsilon} & 1\\\\\n",
    "0 & 0 & \\frac{1}{1 - \\epsilon}\n",
    "\\end{array}\\right]\n",
    "$$"
   ],
   "metadata": {
    "collapsed": false,
    "pycharm": {
     "name": "#%% md\n"
    }
   }
  },
  {
   "cell_type": "markdown",
   "source": [
    "##### Secondly, LU decomposition with partial pivoting\n",
    "\n",
    "$$\n",
    "step\\ 1:\\ \\left[\\begin{array}{cc}\n",
    "1 & 1 & 1\\\\\n",
    "0 & 1 & 1\\\\\n",
    "\\epsilon & 1 & 0\n",
    "\\end{array}\\right] = P_{23}P_{12}A; \\quad\n",
    "\n",
    "step\\ 2:\\ \\left[\\begin{array}{cc}\n",
    "1 & 1 & 1\\\\\n",
    "0 & 1 & 1\\\\\n",
    "0 & 1-\\epsilon & -\\epsilon\n",
    "\\end{array}\\right] = M_1 P_{23}P_{12}A; \\quad\n",
    "$$\n",
    "$$\n",
    "step\\ 3:\\ \\left[\\begin{array}{cc}\n",
    "1 & 1 & 1\\\\\n",
    "0 & 1 & 1\\\\\n",
    "0 & 1-\\epsilon & -\\epsilon\n",
    "\\end{array}\\right] = M_1 P_{23}P_{12}A; \\quad\n",
    "\n",
    "step\\ 4:\\ \\left[\\begin{array}{cc}\n",
    "1 & 1 & 1\\\\\n",
    "0 & 1 & 1\\\\\n",
    "0 & 0 & -1\n",
    "\\end{array}\\right] = M_2 M_1 P_{23} P_{12} A = U \\quad\n",
    "$$\n",
    "\n",
    "$$\n",
    "P_{23} = \\left[\\begin{array}{cc}\n",
    "1 & 0 & 0\\\\\n",
    "0 & 0 & 1\\\\\n",
    "0 & 1 & 0\n",
    "\\end{array}\\right]; \\quad\n",
    "\n",
    "P_{12} = \\left[\\begin{array}{cc}\n",
    "0 & 1 & 0\\\\\n",
    "1 & 0 & 1\\\\\n",
    "0 & 0 & 1\n",
    "\\end{array}\\right]; \\quad\n",
    "\n",
    "P = P_{23} P_{12} = \\left[\\begin{array}{cc}\n",
    "0 & 1 & 0\\\\\n",
    "0 & 0 & 1\\\\\n",
    "1 & 0 & 0\n",
    "\\end{array}\\right]\n",
    "$$\n"
   ],
   "metadata": {
    "collapsed": false,
    "pycharm": {
     "name": "#%% md\n"
    }
   }
  },
  {
   "cell_type": "markdown",
   "source": [
    "$$\n",
    "M_{1} = \\left[\\begin{array}{cc}\n",
    "1 & 0 & 0\\\\\n",
    "0 & 1 & 0\\\\\n",
    "-\\epsilon & 0 & 1\n",
    "\\end{array}\\right]; \\quad\n",
    "\n",
    "M_{2} = \\left[\\begin{array}{cc}\n",
    "1 & 0 & 0\\\\\n",
    "0 & 1 & 0\\\\\n",
    "0 & -1+\\epsilon & 1\n",
    "\\end{array}\\right]; \\quad\n",
    "\n",
    "M = M_{2} M_{1} = \\left[\\begin{array}{cc}\n",
    "1 & 0 & 0\\\\\n",
    "0 & 1 & 0\\\\\n",
    "-\\epsilon & \\epsilon-1 & 1\n",
    "\\end{array}\\right]\n",
    "$$\n",
    "\n",
    "$$ M_2 M_1 P_{23} P_{12} A = U $$\n",
    "$$ M P A = U $$\n",
    "$$ PA = LU ,\\quad where\\ L=M^{-1} $$\n",
    "\n",
    "$$\n",
    "U = \\left[\\begin{array}{cc}\n",
    "1 & 1 & 1\\\\\n",
    "0 & 1 & 1\\\\\n",
    "0 & 0 & -1\n",
    "\\end{array}\\right], \\quad\n",
    "\n",
    "L = \\left[\\begin{array}{cc}\n",
    "1 & 0 & 0\\\\\n",
    "0 & 1 & 0\\\\\n",
    "\\epsilon & 1-\\epsilon & 1\n",
    "\\end{array}\\right], \\quad\n",
    "\n",
    "P = \\left[\\begin{array}{cc}\n",
    "0 & 1 & 0\\\\\n",
    "0 & 0 & 1\\\\\n",
    "1 & 0 & 0\n",
    "\\end{array}\\right], \\quad\n",
    "$$"
   ],
   "metadata": {
    "collapsed": false,
    "pycharm": {
     "name": "#%% md\n"
    }
   }
  },
  {
   "cell_type": "markdown",
   "source": [
    "If we apply simple Gaussian elimination ofr computing LU decomposition of matrix A\n",
    "$$\n",
    "A=\\left[\\begin{array}{cc}\n",
    "10^{-20} & 1 \\\\\n",
    "1 & 1\n",
    "\\end{array}\\right] .\n",
    "$$\n",
    "then $10^{20}$ times the first row is subtracted from the second row, and the following factors are produced:\n",
    "$$\n",
    "L=\\left[\\begin{array}{cc}\n",
    "1 & 0 \\\\\n",
    "10^{20} & 1\n",
    "\\end{array}\\right], \\quad U=\\left[\\begin{array}{cc}\n",
    "10^{-20} & 1 \\\\\n",
    "0 & 1-10^{20}\n",
    "\\end{array}\\right] .\n",
    "$$\n",
    "If these computations are performed in floating point arithmetic with $10^{-16}$ accuracy limit. The number $1-10^{20}$ will not be represented exactly; it will be rounded to the nearest floating point number. Matrices produced by the algorithm will be\n",
    "$$\n",
    "\\tilde{L}=\\left[\\begin{array}{cc}\n",
    "1 & 0 \\\\\n",
    "10^{20} & 1\n",
    "\\end{array}\\right], \\quad \\tilde{U}=\\left[\\begin{array}{cc}\n",
    "10^{-20} & 1 \\\\\n",
    "0 & -10^{20}\n",
    "\\end{array}\\right] .\n",
    "$$\n",
    "The matrix apparent when computing the product $\\tilde{L} \\tilde{U}$ :\n",
    "$$\n",
    "\\tilde{L} \\tilde{U}=\\left[\\begin{array}{cc}\n",
    "10^{-20} & 1 \\\\\n",
    "1 & 0\n",
    "\\end{array}\\right] .\n",
    "$$\n",
    "This matrix is not at all close to $A$"
   ],
   "metadata": {
    "collapsed": false,
    "pycharm": {
     "name": "#%% md\n"
    }
   }
  },
  {
   "cell_type": "markdown",
   "source": [
    "## Task 7"
   ],
   "metadata": {
    "collapsed": false,
    "pycharm": {
     "name": "#%% md\n"
    }
   }
  },
  {
   "cell_type": "code",
   "execution_count": 11,
   "outputs": [],
   "source": [
    "from mpmath import mp, mpf\n",
    "from matplotlib import pyplot as plt\n",
    "\n",
    "def foo(n, a):\n",
    "    f = np.zeros(n, dtype=np.float64)\n",
    "    f[0] = np.log(1 + 1/np.float64(a))\n",
    "    for i in range(1, n):\n",
    "        f[i] = 1/np.float64(i) - np.float64(a) * f[i-1]\n",
    "    return f\n",
    "\n",
    "def mp_foo(n, a):\n",
    "    mp.dps = 64\n",
    "    f = mp.zeros(1, n)\n",
    "    f[0] = mp.log(1 + 1/mpf(a))\n",
    "    for i in range(1, n):\n",
    "        f[i] = 1/mpf(i) - mpf(a) * f[i-1]\n",
    "    return f\n",
    "\n",
    "def plot_diff(n, a):\n",
    "    plt.figure(figsize=(10, 6))\n",
    "    plt.plot((foo(n, a) - mp_foo(n, a)) / np.finfo(float).eps, 'o')\n",
    "    plt.show()"
   ],
   "metadata": {
    "collapsed": false,
    "pycharm": {
     "name": "#%%\n"
    }
   }
  },
  {
   "cell_type": "code",
   "execution_count": 12,
   "outputs": [
    {
     "data": {
      "text/plain": "<Figure size 1000x600 with 1 Axes>",
      "image/png": "[encoded data removed]"
     },
     "metadata": {},
     "output_type": "display_data"
    },
    {
     "data": {
      "text/plain": "<Figure size 1000x600 with 1 Axes>",
      "image/png": "[encoded data removed]"
     },
     "metadata": {},
     "output_type": "display_data"
    }
   ],
   "source": [
    "plt.style.use('dark_background')\n",
    "plot_diff(30, 0.1)\n",
    "plot_diff(30, 10)"
   ],
   "metadata": {
    "collapsed": false,
    "pycharm": {
     "name": "#%%\n"
    }
   }
  },
  {
   "cell_type": "markdown",
   "source": [
    "Для вычисления $f(30,10)$ будем использовать разложение $ln(1 + x) = \\sum_{n=0}^{\\inf} \\frac{(-1)^n x^{n+1}}{n+1}$ в ряд Тейлора.\n",
    "\n",
    "$$ f(20,10) = \\frac{1}{20} - \\frac{a}{19} + \\ldots - a^{19} + a^{20} ln(1+1/a) = \\frac{1}{21a} - \\frac{1}{22a^2} + \\ldots $$\n",
    "\n",
    "$$ f(30,10) = \\frac{1}{31a} - \\frac{1}{32a^2} + \\frac{1}{33a^3} \\ldots $$\n"
   ],
   "metadata": {
    "collapsed": false,
    "pycharm": {
     "name": "#%% md\n"
    }
   }
  },
  {
   "cell_type": "markdown",
   "source": [
    "## Task 2"
   ],
   "metadata": {
    "collapsed": false,
    "pycharm": {
     "name": "#%% md\n"
    }
   }
  },
  {
   "cell_type": "code",
   "execution_count": 18,
   "outputs": [
    {
     "name": "stdout",
     "output_type": "stream",
     "text": [
      "0.4320458056166690197593783572604528727053527543871788951777017692\n"
     ]
    }
   ],
   "source": [
    "from mpmath import *\n",
    "mp.dps = 64\n",
    "x = mp.power(10, 100)\n",
    "print(mp.tan(x))"
   ],
   "metadata": {
    "collapsed": false,
    "pycharm": {
     "name": "#%%\n"
    }
   }
  },
  {
   "cell_type": "code",
   "execution_count": 19,
   "outputs": [
    {
     "name": "stdout",
     "output_type": "stream",
     "text": [
      "1.204622172997339546650238669256162866740017886776406173657927446e+104\n"
     ]
    }
   ],
   "source": [
    "kappa = x / (mp.power(mp.cos(x),100) * mp.tan(x))\n",
    "print(kappa)"
   ],
   "metadata": {
    "collapsed": false,
    "pycharm": {
     "name": "#%%\n"
    }
   }
  },
  {
   "cell_type": "markdown",
   "source": [
    "$ \\kappa = 10^{104} $,  значение функции $ f = 0.43 $\n",
    "$ df = C * f * \\frac{dx}{x} = 1.2*dx \\rightarrow$ Нужно хранить в памяти около 107, чтобы получить C точностью в 7 значащих цифр."
   ],
   "metadata": {
    "collapsed": false
   }
  },
  {
   "cell_type": "markdown",
   "source": [
    "## Task 4\n",
    "\n",
    "сделал с стандартным отклонением 10**-10 а не e**-10, потому что так красивее"
   ],
   "metadata": {
    "collapsed": false,
    "pycharm": {
     "name": "#%% md\n"
    }
   }
  },
  {
   "cell_type": "code",
   "execution_count": 74,
   "outputs": [
    {
     "data": {
      "text/plain": "<Figure size 1000x600 with 1 Axes>",
      "image/png": "[encoded data removed]"
     },
     "metadata": {},
     "output_type": "display_data"
    }
   ],
   "source": [
    "init_roots = np.arange(1,21)\n",
    "init_coefs = np.polynomial.polynomial.polyfromroots(init_roots)\n",
    "\n",
    "real = np.zeros((20, 100))\n",
    "imag = np.zeros_like(real)\n",
    "for i in range(100):\n",
    "    coefs = np.multiply(init_coefs, np.random.normal(1, 10**-10, 21))\n",
    "    roots = np.polynomial.polynomial.polyroots(coefs)\n",
    "    real[:,i] = np.real(roots)\n",
    "    imag[:,i] = np.imag(roots)\n",
    "\n",
    "plt.figure(figsize=(10, 6))\n",
    "plt.scatter(real.flatten(), imag.flatten(), s=0.2)\n",
    "plt.scatter(init_roots, np.zeros(20))\n",
    "plt.show()"
   ],
   "metadata": {
    "collapsed": false,
    "pycharm": {
     "name": "#%%\n"
    }
   }
  },
  {
   "cell_type": "markdown",
   "source": [
    "## Task 3"
   ],
   "metadata": {
    "collapsed": false,
    "pycharm": {
     "name": "#%% md\n"
    }
   }
  },
  {
   "cell_type": "code",
   "execution_count": 7,
   "outputs": [],
   "source": [
    "def solve_quad(b,c):\n",
    "    d = b**2 - 4*c\n",
    "    root = np.sqrt(abs(d))\n",
    "    if d < 0:\n",
    "        return (b + 1j*root)/2, (b - 1j*root)/2\n",
    "    elif d == 0:\n",
    "        return b/2, b/2\n",
    "    else:\n",
    "        return (b + root)/2, (b - root)/2"
   ],
   "metadata": {
    "collapsed": false,
    "pycharm": {
     "name": "#%%\n"
    }
   }
  },
  {
   "cell_type": "code",
   "execution_count": 8,
   "outputs": [
    {
     "name": "stdout",
     "output_type": "stream",
     "text": [
      "(3.0, 1.0)\n",
      "(1.0, 1.0)\n",
      "((0.25+1.984313483298443j), (0.25-1.984313483298443j))\n",
      "(10000000000.0, 0.0)\n",
      "(0.0, -10000000000.0)\n"
     ]
    }
   ],
   "source": [
    "tests = [{ 'b': 4.0 , 'c': 3.0} ,\n",
    "        { 'b': 2.0 , 'c' : 1.0} ,\n",
    "        { 'b': 0.5 , 'c': 4.0} ,\n",
    "        { 'b': 1e10 , 'c': 3.0} ,\n",
    "        { 'b': -1e10 , 'c': 4.0}]\n",
    "\n",
    "\n",
    "for inp in tests:\n",
    "    b = inp['b']\n",
    "    c = inp['c']\n",
    "    print(solve_quad(b,c))"
   ],
   "metadata": {
    "collapsed": false,
    "pycharm": {
     "name": "#%%\n"
    }
   }
  }
 ],
 "metadata": {
  "kernelspec": {
   "display_name": "Python 3",
   "language": "python",
   "name": "python3"
  },
  "language_info": {
   "codemirror_mode": {
    "name": "ipython",
    "version": 2
   },
   "file_extension": ".py",
   "mimetype": "text/x-python",
   "name": "python",
   "nbconvert_exporter": "python",
   "pygments_lexer": "ipython2",
   "version": "2.7.6"
  }
 },
 "nbformat": 4,
 "nbformat_minor": 0
}